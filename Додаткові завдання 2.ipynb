{
 "cells": [
  {
   "cell_type": "markdown",
   "metadata": {},
   "source": [
    "# Додаткові завдання №2"
   ]
  },
  {
   "cell_type": "markdown",
   "metadata": {},
   "source": [
    "## 1 Візуалізація емпіричної імовірності\n",
    "Побудуйте графік залежності емпіричної імовірності випадіння герба (HEAD) від кількості підкидань чесної монети (симуляцій).\n",
    "\n",
    "**Зауваження.** Завдання передбачає використання бібліотеки [Matplotlib](https://matplotlib.org/)."
   ]
  },
  {
   "cell_type": "code",
   "execution_count": 18,
   "metadata": {},
   "outputs": [
    {
     "data": {
      "text/plain": [
       "[<matplotlib.lines.Line2D at 0x528ecb0>]"
      ]
     },
     "execution_count": 18,
     "metadata": {},
     "output_type": "execute_result"
    },
    {
     "data": {
      "image/png": "[encoded data removed]",
      "text/plain": [
       "<Figure size 432x288 with 1 Axes>"
      ]
     },
     "metadata": {
      "needs_background": "light"
     },
     "output_type": "display_data"
    }
   ],
   "source": [
    "import numpy as np\n",
    "import matplotlib.pyplot as plt\n",
    "\n",
    "def heads(n):\n",
    "    return list(np.random.randint(2, size = n)).count(1)/n\n",
    "\n",
    "x = list(range(1, 1000))\n",
    "y = [heads(i) for i in range(1, 1000)]\n",
    "\n",
    "plt.plot(x, y, 'm,')\n",
    "\n",
    "\n",
    "\n"
   ]
  },
  {
   "cell_type": "markdown",
   "metadata": {},
   "source": [
    "## 2 Найбільше число\n",
    "Реалізуйте функцію підрахунку точної (теоретичної) імовірності того, що максимальне число після $n$ кидків різних гральних кубиків із кількістю сторін $f = \\{ f_i \\}_{i = 1}^{n}$ дорівнює $x\\_max$, для таких параметрів:\n",
    "- $f = \\{ 2, 5, 8 \\}, x\\_max = 8$\n",
    "- $f = \\{ 3, 4 \\}, x\\_max = 2$\n",
    "- $f = \\{ 2, 5, 7, 3 \\}, x\\_max = 3$\n",
    "\n",
    "Тобто, якщо $X_i, i = 1, \\ldots, n$, - число на $i$-му кидку кубика, а $X = \\max\\limits_{1 \\leq i \\leq n} X_i$, то потрібно знайти ймовірність $\\textbf{P} \\left( X = x\\_max \\right)$.\n",
    "\n",
    "Підрахуйте також емпіричні ймовірності відповідних подій у випадку $10000$ симуляцій.\n",
    "\n",
    "**Зауваження.** Якщо введені параметри не мають сенсу, то повертати $0$.\n",
    "Наприклад, якщо при $f = \\{ 4, 8, 3 \\}$ вводиться $x\\_max < 1$ або $x\\_max > 8$."
   ]
  },
  {
   "cell_type": "code",
   "execution_count": 20,
   "metadata": {},
   "outputs": [
    {
     "name": "stdout",
     "output_type": "stream",
     "text": [
      "0.125\n",
      "0.25\n",
      "0.18095238095238092\n"
     ]
    }
   ],
   "source": [
    "def less_eq(n, k):\n",
    "    return min(k, n)/n \n",
    "\n",
    "A = [([2, 5, 8], 8),\n",
    "     ([3, 4], 2),\n",
    "     ([2, 5, 7, 3], 3)]\n",
    "\n",
    "for p in A:\n",
    "    prob_less_eq = 1\n",
    "    prob_less = 1\n",
    "    for i in p[0]:\n",
    "        prob_less_eq *= less_eq(i, p[1])\n",
    "        prob_less *= less_eq(i, p[1] - 1)\n",
    "    print(prob_less_eq - prob_less)"
   ]
  },
  {
   "cell_type": "markdown",
   "metadata": {},
   "source": [
    "## 3 Сума чисел\n",
    "Реалізуйте функцію підрахунку точної (теоретичної) імовірності того, що сума чисел після $n$ кидків різних гральних кубиків із кількістю сторін $f = \\{ f_i \\}_{i = 1}^{n}$ дорівнює $s$, для таких параметрів:\n",
    "- $f = \\{ 3, 4, 5 \\}, s = 13$\n",
    "- $f = \\{ 2, 2 \\}, s = 3$\n",
    "- $f = \\{ 3, 4, 5 \\}, s = 7$\n",
    "\n",
    "Тобто, якщо $X_i, i = 1, \\ldots, n$, - число на $i$-му кидку кубика, а $X = \\sum\\limits_{i = 1}^{n} X_i$, то потрібно знайти ймовірність $\\textbf{P} \\left( X = s \\right)$.\n",
    "\n",
    "Підрахуйте також емпіричні ймовірності відповідних подій у випадку $10000$ симуляцій.\n",
    "\n",
    "**Зауваження.** Якщо введені параметри не мають сенсу, то повертати $0$.\n",
    "Наприклад, якщо при $f = \\{ 4, 6, 3 \\}$ вводиться $s < 3$ або $s > 13$."
   ]
  },
  {
   "cell_type": "code",
   "execution_count": 3,
   "metadata": {
    "collapsed": true
   },
   "outputs": [],
   "source": [
    "# Місце для Вашого коду\n",
    "\n"
   ]
  }
 ],
 "metadata": {
  "kernelspec": {
   "display_name": "Python 3",
   "language": "python",
   "name": "python3"
  },
  "language_info": {
   "codemirror_mode": {
    "name": "ipython",
    "version": 3
   },
   "file_extension": ".py",
   "mimetype": "text/x-python",
   "name": "python",
   "nbconvert_exporter": "python",
   "pygments_lexer": "ipython3",
   "version": "3.7.0"
  }
 },
 "nbformat": 4,
 "nbformat_minor": 1
}
